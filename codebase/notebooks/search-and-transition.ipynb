{
 "cells": [
  {
   "cell_type": "markdown",
   "id": "5a922032",
   "metadata": {},
   "source": [
    "## This file contains the code for skill gap analysis and transition recommendation based on the dataset curated and processed by Nesta."
   ]
  },
  {
   "cell_type": "markdown",
   "id": "9c4cfe3b",
   "metadata": {},
   "source": [
    "### 1. Solr search to find best matching occupation"
   ]
  },
  {
   "cell_type": "markdown",
   "id": "7abc5f4a",
   "metadata": {},
   "source": [
    "One of the shortcoming of Nesta project is that the user occupation has to exactly match to the occupations given in the ESCO and ONET dataset called \"ESCO_occupation_profiles\". We have overcome this by performing a Solr search to get the occupations which are closest possible match to the one user has searched for. For example, there is no occupation called \"Software Engineer\" in the ESCO dataset so we performed a Solr search to find the closest possible match to said occupation and the top result was \"Software Analyst\".  "
   ]
  },
  {
   "cell_type": "markdown",
   "id": "5e03f607",
   "metadata": {},
   "source": [
    "How to install apache Solr: https://factorpad.com/tech/solr/tutorial/install-solr.html\n",
    "\n",
    "Overview of Solr: https://factorpad.com/tech/solr/tutorial/solr-basics.html\n"
   ]
  },
  {
   "cell_type": "markdown",
   "id": "11a6132a",
   "metadata": {},
   "source": [
    "1. Creating a Solr core:\n",
    "\n",
    "To create a Solr core, use command \"bin/solr create_core -c test_core\" where \"test_core\" is the core name where the dataset to be searched in would be posted.\n",
    "\n",
    "2. Making necessary changes \n",
    "\n",
    "As per tutorial provided by Apache Solr two important changes were made to the schema. One is to make sure that the field where the text whould be searched in is interpret as String and another is to make sure that the search is cathing all fields when the text is searched. Detailed steps are here: https://solr.apache.org/guide/7_0/solr-tutorial.html#exercise-2\n",
    "\n",
    "3. Posting the datafile into the core\n",
    "\n",
    "To post the data into the core file first a directory called \"test_nesta\" was created to store the dataset used called \"ESCO_occupation_profiles.csv\" (renamed to \"ESCO_occ.csv\") and then this file was posted into the core created in previous step by using command: \"bin/post -c test_core bin/test_nesta/ESCO_occ.csv\"\n",
    "\n",
    "4. Query the text\n",
    "\n",
    "On Solr UI \"software engineer\" was searched by typing in the \"q\" field and results were shown.\n",
    "\n",
    "\n"
   ]
  },
  {
   "cell_type": "code",
   "execution_count": 1,
   "id": "9e1327cb",
   "metadata": {},
   "outputs": [],
   "source": [
    "#All imports\n",
    "\n",
    "from urllib.request import urlopen\n",
    "import pandas as pd\n",
    "import random\n",
    "\n",
    "import warnings\n",
    "warnings.filterwarnings('ignore')"
   ]
  },
  {
   "cell_type": "markdown",
   "id": "a33eacf8",
   "metadata": {},
   "source": [
    "Following is a dataset containing occupations to be used for testing occupation search. The dataset is taken from Kaggle.com"
   ]
  },
  {
   "cell_type": "code",
   "execution_count": 2,
   "id": "7c44249b",
   "metadata": {},
   "outputs": [
    {
     "data": {
      "text/plain": [
       "0                               Chief Executives\n",
       "1                General and Operations Managers\n",
       "2            Advertising and Promotions Managers\n",
       "3                             Marketing Managers\n",
       "4                                 Sales Managers\n",
       "                         ...                    \n",
       "697      Pump Operators; Except Wellhead Pumpers\n",
       "698                             Wellhead Pumpers\n",
       "699    Refuse and Recyclable Material Collectors\n",
       "700                   Mine Shuttle Car Operators\n",
       "701            Tank Car; Truck; and Ship Loaders\n",
       "Name: Occupation, Length: 702, dtype: object"
      ]
     },
     "execution_count": 2,
     "metadata": {},
     "output_type": "execute_result"
    }
   ],
   "source": [
    "#dummy user data from Kaggle.com: https://www.kaggle.com/andrewmvd/occupation-salary-and-likelihood-of-automation?select=automation_data_by_state.csv\n",
    "all_occupations = pd.read_csv(\"../../../data/occupation_automation_data_by_state.csv\")\n",
    "all_occupations['Occupation']"
   ]
  },
  {
   "cell_type": "code",
   "execution_count": 3,
   "id": "ea2a8835",
   "metadata": {},
   "outputs": [
    {
     "name": "stdout",
     "output_type": "stream",
     "text": [
      "First-Line Supervisors of Housekeeping and Janitorial Workers\n"
     ]
    },
    {
     "data": {
      "text/plain": [
       "'first-line%20supervisors%20of%20housekeeping%20and%20janitorial%20workers'"
      ]
     },
     "execution_count": 3,
     "metadata": {},
     "output_type": "execute_result"
    }
   ],
   "source": [
    "user_occupation = all_occupations['Occupation'][(random.randint(0,701))] #choosing a random row from all occupations data\n",
    "\n",
    "#making occupation lower case\n",
    "query = user_occupation.lower()\n",
    "query = query.replace(\";\",\" \") #replacing ; with space\n",
    "query = query.replace(\" \",\"%20\") #replacing space with % sign as solr would not take space in the input\n",
    "\n",
    "print(user_occupation)\n",
    "query # printing the final query"
   ]
  },
  {
   "cell_type": "markdown",
   "id": "ca6e6216",
   "metadata": {},
   "source": [
    "#### 1.1 Set up Solr Connection"
   ]
  },
  {
   "cell_type": "markdown",
   "id": "183622fa",
   "metadata": {},
   "source": [
    "For passing a qury to Solr we have to make sure first that there is no space in the query. Solr interprets \"%\" as space hence when searching for a query, say, \"Software engineer\" we convert it into \"software%20engineer\".\n",
    "\n",
    "\n",
    "Searching for occupation example \"Software Engineer\""
   ]
  },
  {
   "cell_type": "code",
   "execution_count": 4,
   "id": "99926430",
   "metadata": {},
   "outputs": [
    {
     "name": "stdout",
     "output_type": "stream",
     "text": [
      "Pilot\n"
     ]
    },
    {
     "data": {
      "text/plain": [
       "'pilot'"
      ]
     },
     "execution_count": 4,
     "metadata": {},
     "output_type": "execute_result"
    }
   ],
   "source": [
    "user_occupation = \"Pilot\"\n",
    "\n",
    "\n",
    "query = user_occupation.strip() #deleting any leading and trailing spaces\n",
    "query = query.lower() #making occupation lower case\n",
    "query = query.replace(\";\",\" \") #replacing ; with space\n",
    "query = query.replace(\" \",\"%20\") #replacing space with % sign as solr would not take space in the input\n",
    "\n",
    "print(user_occupation)\n",
    "query # printing the final query"
   ]
  },
  {
   "cell_type": "code",
   "execution_count": 5,
   "id": "5efd8db9",
   "metadata": {},
   "outputs": [],
   "source": [
    "# search for a query\n",
    "connection = urlopen('http://localhost:8983/solr/test_nesta/query?q={}&&wt=python&&fl=id,preferred_label,score'.format(query))\n",
    "response = eval(connection.read())\n"
   ]
  },
  {
   "cell_type": "code",
   "execution_count": 6,
   "id": "425ccc03",
   "metadata": {},
   "outputs": [
    {
     "data": {
      "text/plain": [
       "{'responseHeader': {'status': 0,\n",
       "  'QTime': 11,\n",
       "  'params': {'q': 'pilot', 'fl': 'id,preferred_label,score', 'wt': 'python'}},\n",
       " 'response': {'numFound': 9,\n",
       "  'start': 0,\n",
       "  'maxScore': 2.9587922,\n",
       "  'numFoundExact': True,\n",
       "  'docs': [{'id': '2385',\n",
       "    'preferred_label': ['air force pilot'],\n",
       "    'score': 2.9587922},\n",
       "   {'id': '389', 'preferred_label': ['maritime pilot'], 'score': 2.5809317},\n",
       "   {'id': '838', 'preferred_label': ['helicopter pilot'], 'score': 2.5809317},\n",
       "   {'id': '981',\n",
       "    'preferred_label': ['airline transport pilot'],\n",
       "    'score': 2.5809317},\n",
       "   {'id': '982', 'preferred_label': ['commercial pilot'], 'score': 2.5809317},\n",
       "   {'id': '1537', 'preferred_label': ['co-pilot'], 'score': 2.5809317},\n",
       "   {'id': '1655', 'preferred_label': ['private pilot'], 'score': 2.5809317},\n",
       "   {'id': '1843', 'preferred_label': ['aircraft pilot'], 'score': 2.5403786},\n",
       "   {'id': '2310',\n",
       "    'preferred_label': ['ship pilot dispatcher'],\n",
       "    'score': 2.5403786}]}}"
      ]
     },
     "execution_count": 6,
     "metadata": {},
     "output_type": "execute_result"
    }
   ],
   "source": [
    "response"
   ]
  },
  {
   "cell_type": "markdown",
   "id": "80b3ecdd",
   "metadata": {},
   "source": [
    "Code snippet below generates the results of an example search for 'Software Engineer'. We can notice that occupation \"software analyst\" has the best matching score so we would go ahead for further analysis with the occupation 'software analyst'."
   ]
  },
  {
   "cell_type": "code",
   "execution_count": 7,
   "id": "52acf0e8",
   "metadata": {},
   "outputs": [
    {
     "name": "stdout",
     "output_type": "stream",
     "text": [
      "{'id': '2385', 'preferred_label': ['air force pilot'], 'score': 2.9587922}\n",
      "{'id': '389', 'preferred_label': ['maritime pilot'], 'score': 2.5809317}\n",
      "{'id': '838', 'preferred_label': ['helicopter pilot'], 'score': 2.5809317}\n",
      "{'id': '981', 'preferred_label': ['airline transport pilot'], 'score': 2.5809317}\n",
      "{'id': '982', 'preferred_label': ['commercial pilot'], 'score': 2.5809317}\n",
      "{'id': '1537', 'preferred_label': ['co-pilot'], 'score': 2.5809317}\n",
      "{'id': '1655', 'preferred_label': ['private pilot'], 'score': 2.5809317}\n",
      "{'id': '1843', 'preferred_label': ['aircraft pilot'], 'score': 2.5403786}\n",
      "{'id': '2310', 'preferred_label': ['ship pilot dispatcher'], 'score': 2.5403786}\n"
     ]
    }
   ],
   "source": [
    "results = (response['response']['docs'])\n",
    "\n",
    "for items in results:\n",
    "    print(items)"
   ]
  },
  {
   "cell_type": "code",
   "execution_count": 8,
   "id": "8efa69d3",
   "metadata": {},
   "outputs": [
    {
     "data": {
      "text/plain": [
       "'commercial pilot'"
      ]
     },
     "execution_count": 8,
     "metadata": {},
     "output_type": "execute_result"
    }
   ],
   "source": [
    "response['response']['docs'][4]['preferred_label'][0] # getting the first occupation from the dictionary"
   ]
  },
  {
   "cell_type": "code",
   "execution_count": null,
   "id": "716cc055",
   "metadata": {},
   "outputs": [],
   "source": []
  },
  {
   "cell_type": "code",
   "execution_count": null,
   "id": "1cabfd4a",
   "metadata": {},
   "outputs": [],
   "source": []
  },
  {
   "cell_type": "markdown",
   "id": "75eb1549",
   "metadata": {},
   "source": [
    "### 2. Career transition "
   ]
  },
  {
   "cell_type": "markdown",
   "id": "3e6dc917",
   "metadata": {},
   "source": [
    "In the codebase provided by Nesta, the file called \"notebook_preamble_Transitions.ipy\" is the first file that is required to run as it contains all the necessary imports from the package mapping_career_causeway. "
   ]
  },
  {
   "cell_type": "code",
   "execution_count": 9,
   "id": "b265e3b5",
   "metadata": {},
   "outputs": [],
   "source": [
    "# running the necessary file \n",
    "\n",
    "%run ../../notebook_preamble_Transitions.ipy\n"
   ]
  },
  {
   "cell_type": "code",
   "execution_count": 10,
   "id": "76169bc6",
   "metadata": {},
   "outputs": [],
   "source": [
    "# Occupational profiles\n",
    "#data.occ.info()"
   ]
  },
  {
   "cell_type": "markdown",
   "id": "f3b91b5c",
   "metadata": {},
   "source": [
    "#### 2.1: Code snippet below is generating the description and alternate names for occupation selected above."
   ]
  },
  {
   "cell_type": "markdown",
   "id": "dbc09cc5",
   "metadata": {},
   "source": [
    "In the code below object \"data\" is an instance of class \"Data\", which is declared in the \"load_data_utils.py\" utility file provided in the package. \"data\" is declared in the \"notebook_preamble_Transitions.ipy\" file as below:\n",
    "\n",
    "data= load_data.Data( ) where load_data is refering to \"load_data_utils.py\" file \n",
    "\n",
    "\n",
    "\n"
   ]
  },
  {
   "cell_type": "code",
   "execution_count": null,
   "id": "a8d2c261-da85-4f12-8a2a-4a7f7d6f6176",
   "metadata": {},
   "outputs": [],
   "source": []
  },
  {
   "cell_type": "code",
   "execution_count": null,
   "id": "290d4490-ea45-4dfb-bd75-e32fa9abe83d",
   "metadata": {},
   "outputs": [],
   "source": []
  },
  {
   "cell_type": "code",
   "execution_count": null,
   "id": "37c7d7ff-9f15-43ed-bf21-b9a32a212e7a",
   "metadata": {},
   "outputs": [],
   "source": []
  },
  {
   "cell_type": "code",
   "execution_count": 11,
   "id": "6823ccb7",
   "metadata": {},
   "outputs": [
    {
     "name": "stdout",
     "output_type": "stream",
     "text": [
      "occupation ID 982: commercial pilot\n",
      "\n",
      "---\n",
      "Description:\n",
      "\n",
      "Commercial pilots navigate flight of fixed-wing and multi-engine aircrafts for the transport of passengers and cargo.\n",
      "\n",
      "---\n",
      "Alternative occupation labels:\n",
      "\n",
      "pilot of commercial aircraft\n",
      "pilot of commercial aeroplanes\n",
      "airline pilot\n",
      "captain\n"
     ]
    }
   ],
   "source": [
    "# Check transitions for an occupation\n",
    "\n",
    "occupation_label = results[4]['preferred_label'][0]\n",
    "\n",
    "\n",
    "# Get the job ID number\n",
    "job_i = data.occ_title_to_id(occupation_label) #Finds occupation's ID based on a string input\n",
    "\n",
    "# Description \n",
    "data.describe_occupation(job_i) #Show occupation's description and alternative labels "
   ]
  },
  {
   "cell_type": "markdown",
   "id": "836b3263",
   "metadata": {},
   "source": [
    "#### 2.2: Generating the possible desirable transitions from the given occupation. \"Desirable\" is defined as the jobs that have better earning possibilities."
   ]
  },
  {
   "cell_type": "code",
   "execution_count": 12,
   "id": "0a84b485",
   "metadata": {},
   "outputs": [
    {
     "name": "stdout",
     "output_type": "stream",
     "text": [
      "26 desirable transitions from commercial pilot.\n",
      "\n",
      "----\n",
      "\n",
      "Transition destinations:\n",
      "\n",
      "aircraft pilot\n",
      "air traffic controller\n",
      "aviation surveillance and code coordination manager\n",
      "aviation safety officer\n",
      "airside safety manager\n",
      "airport maintenance technician\n",
      "air traffic manager\n",
      "aviation data communications manager\n",
      "airspace manager\n",
      "aviation inspector\n",
      "flight operations officer\n",
      "airport director\n",
      "air traffic safety technician\n",
      "airport environment officer\n",
      "ground lighting officer\n",
      "pipeline compliance coordinator\n",
      "aircraft maintenance coordinator\n",
      "commissioning engineer\n",
      "construction safety manager\n",
      "astronaut\n",
      "aircraft engine specialist\n",
      "pipeline environmental project manager\n",
      "railway electronic technician\n",
      "commissioning technician\n",
      "radiation protection officer\n",
      "police officer\n"
     ]
    }
   ],
   "source": [
    "#@markdown Select the type of transition (strictly safe and desirable is the default)\n",
    "transition_type = \"desirable\" #@param [\"viable\", \"desirable\", \"safe_desirable\", \"strictly_safe_desirable\"]\n",
    "\n",
    "# Define column to use, to filter the transitions\n",
    "transition_type_col = \"is_\" + transition_type\n",
    "\n",
    "# Generate transitions: This code generates a table with all possible transitions and later we are filtering the column with desirable transitions \n",
    "trans = trans_utils.get_transitions(\n",
    "    origin_ids=[job_i],\n",
    "    less_information=True)\n",
    "\n",
    "# Select transitions according to the specified transition_type\n",
    "# (NB: Need to reset the index)\n",
    "selected_transitions = trans[trans[transition_type_col]].reset_index() #this generates a table of all desirable transitions\n",
    "\n",
    "print(f'{len(selected_transitions)} {\" \".join(transition_type.split(\"_\"))} transitions from {occupation_label}.')\n",
    "\n",
    "\n",
    "# printing only destination labels from the transition table\n",
    "print('\\n----\\n')\n",
    "print('Transition destinations:\\n')\n",
    "for destination in selected_transitions.destination_label.to_list():\n",
    "  print(destination)"
   ]
  },
  {
   "cell_type": "code",
   "execution_count": 13,
   "id": "193f9091",
   "metadata": {},
   "outputs": [
    {
     "data": {
      "text/html": [
       "<div>\n",
       "<style scoped>\n",
       "    .dataframe tbody tr th:only-of-type {\n",
       "        vertical-align: middle;\n",
       "    }\n",
       "\n",
       "    .dataframe tbody tr th {\n",
       "        vertical-align: top;\n",
       "    }\n",
       "\n",
       "    .dataframe thead th {\n",
       "        text-align: right;\n",
       "    }\n",
       "</style>\n",
       "<table border=\"1\" class=\"dataframe\">\n",
       "  <thead>\n",
       "    <tr style=\"text-align: right;\">\n",
       "      <th></th>\n",
       "      <th>index</th>\n",
       "      <th>origin_id</th>\n",
       "      <th>origin_label</th>\n",
       "      <th>destination_id</th>\n",
       "      <th>destination_label</th>\n",
       "      <th>similarity</th>\n",
       "      <th>is_viable</th>\n",
       "      <th>is_desirable</th>\n",
       "      <th>is_safe_desirable</th>\n",
       "      <th>is_strictly_safe_desirable</th>\n",
       "    </tr>\n",
       "  </thead>\n",
       "  <tbody>\n",
       "    <tr>\n",
       "      <th>0</th>\n",
       "      <td>0</td>\n",
       "      <td>982</td>\n",
       "      <td>commercial pilot</td>\n",
       "      <td>1843</td>\n",
       "      <td>aircraft pilot</td>\n",
       "      <td>0.928970</td>\n",
       "      <td>True</td>\n",
       "      <td>True</td>\n",
       "      <td>True</td>\n",
       "      <td>False</td>\n",
       "    </tr>\n",
       "    <tr>\n",
       "      <th>1</th>\n",
       "      <td>2</td>\n",
       "      <td>982</td>\n",
       "      <td>commercial pilot</td>\n",
       "      <td>728</td>\n",
       "      <td>air traffic controller</td>\n",
       "      <td>0.523488</td>\n",
       "      <td>True</td>\n",
       "      <td>True</td>\n",
       "      <td>True</td>\n",
       "      <td>False</td>\n",
       "    </tr>\n",
       "    <tr>\n",
       "      <th>2</th>\n",
       "      <td>4</td>\n",
       "      <td>982</td>\n",
       "      <td>commercial pilot</td>\n",
       "      <td>1687</td>\n",
       "      <td>aviation surveillance and code coordination ma...</td>\n",
       "      <td>0.464536</td>\n",
       "      <td>True</td>\n",
       "      <td>True</td>\n",
       "      <td>True</td>\n",
       "      <td>True</td>\n",
       "    </tr>\n",
       "    <tr>\n",
       "      <th>3</th>\n",
       "      <td>5</td>\n",
       "      <td>982</td>\n",
       "      <td>commercial pilot</td>\n",
       "      <td>2377</td>\n",
       "      <td>aviation safety officer</td>\n",
       "      <td>0.457789</td>\n",
       "      <td>True</td>\n",
       "      <td>True</td>\n",
       "      <td>True</td>\n",
       "      <td>False</td>\n",
       "    </tr>\n",
       "    <tr>\n",
       "      <th>4</th>\n",
       "      <td>6</td>\n",
       "      <td>982</td>\n",
       "      <td>commercial pilot</td>\n",
       "      <td>816</td>\n",
       "      <td>airside safety manager</td>\n",
       "      <td>0.446604</td>\n",
       "      <td>True</td>\n",
       "      <td>True</td>\n",
       "      <td>True</td>\n",
       "      <td>False</td>\n",
       "    </tr>\n",
       "    <tr>\n",
       "      <th>5</th>\n",
       "      <td>7</td>\n",
       "      <td>982</td>\n",
       "      <td>commercial pilot</td>\n",
       "      <td>1562</td>\n",
       "      <td>airport maintenance technician</td>\n",
       "      <td>0.432825</td>\n",
       "      <td>True</td>\n",
       "      <td>True</td>\n",
       "      <td>True</td>\n",
       "      <td>True</td>\n",
       "    </tr>\n",
       "    <tr>\n",
       "      <th>6</th>\n",
       "      <td>9</td>\n",
       "      <td>982</td>\n",
       "      <td>commercial pilot</td>\n",
       "      <td>163</td>\n",
       "      <td>air traffic manager</td>\n",
       "      <td>0.408983</td>\n",
       "      <td>True</td>\n",
       "      <td>True</td>\n",
       "      <td>True</td>\n",
       "      <td>False</td>\n",
       "    </tr>\n",
       "    <tr>\n",
       "      <th>7</th>\n",
       "      <td>10</td>\n",
       "      <td>982</td>\n",
       "      <td>commercial pilot</td>\n",
       "      <td>1064</td>\n",
       "      <td>aviation data communications manager</td>\n",
       "      <td>0.402656</td>\n",
       "      <td>True</td>\n",
       "      <td>True</td>\n",
       "      <td>True</td>\n",
       "      <td>False</td>\n",
       "    </tr>\n",
       "    <tr>\n",
       "      <th>8</th>\n",
       "      <td>11</td>\n",
       "      <td>982</td>\n",
       "      <td>commercial pilot</td>\n",
       "      <td>2446</td>\n",
       "      <td>airspace manager</td>\n",
       "      <td>0.400641</td>\n",
       "      <td>True</td>\n",
       "      <td>True</td>\n",
       "      <td>True</td>\n",
       "      <td>False</td>\n",
       "    </tr>\n",
       "    <tr>\n",
       "      <th>9</th>\n",
       "      <td>12</td>\n",
       "      <td>982</td>\n",
       "      <td>commercial pilot</td>\n",
       "      <td>2076</td>\n",
       "      <td>aviation inspector</td>\n",
       "      <td>0.392292</td>\n",
       "      <td>True</td>\n",
       "      <td>True</td>\n",
       "      <td>True</td>\n",
       "      <td>False</td>\n",
       "    </tr>\n",
       "    <tr>\n",
       "      <th>10</th>\n",
       "      <td>13</td>\n",
       "      <td>982</td>\n",
       "      <td>commercial pilot</td>\n",
       "      <td>2665</td>\n",
       "      <td>flight operations officer</td>\n",
       "      <td>0.384849</td>\n",
       "      <td>True</td>\n",
       "      <td>True</td>\n",
       "      <td>True</td>\n",
       "      <td>False</td>\n",
       "    </tr>\n",
       "    <tr>\n",
       "      <th>11</th>\n",
       "      <td>14</td>\n",
       "      <td>982</td>\n",
       "      <td>commercial pilot</td>\n",
       "      <td>2899</td>\n",
       "      <td>airport director</td>\n",
       "      <td>0.384596</td>\n",
       "      <td>True</td>\n",
       "      <td>True</td>\n",
       "      <td>True</td>\n",
       "      <td>False</td>\n",
       "    </tr>\n",
       "    <tr>\n",
       "      <th>12</th>\n",
       "      <td>15</td>\n",
       "      <td>982</td>\n",
       "      <td>commercial pilot</td>\n",
       "      <td>3</td>\n",
       "      <td>air traffic safety technician</td>\n",
       "      <td>0.379015</td>\n",
       "      <td>True</td>\n",
       "      <td>True</td>\n",
       "      <td>True</td>\n",
       "      <td>False</td>\n",
       "    </tr>\n",
       "    <tr>\n",
       "      <th>13</th>\n",
       "      <td>17</td>\n",
       "      <td>982</td>\n",
       "      <td>commercial pilot</td>\n",
       "      <td>1267</td>\n",
       "      <td>airport environment officer</td>\n",
       "      <td>0.351381</td>\n",
       "      <td>True</td>\n",
       "      <td>True</td>\n",
       "      <td>True</td>\n",
       "      <td>False</td>\n",
       "    </tr>\n",
       "    <tr>\n",
       "      <th>14</th>\n",
       "      <td>18</td>\n",
       "      <td>982</td>\n",
       "      <td>commercial pilot</td>\n",
       "      <td>1691</td>\n",
       "      <td>ground lighting officer</td>\n",
       "      <td>0.350504</td>\n",
       "      <td>True</td>\n",
       "      <td>True</td>\n",
       "      <td>True</td>\n",
       "      <td>True</td>\n",
       "    </tr>\n",
       "    <tr>\n",
       "      <th>15</th>\n",
       "      <td>19</td>\n",
       "      <td>982</td>\n",
       "      <td>commercial pilot</td>\n",
       "      <td>1669</td>\n",
       "      <td>pipeline compliance coordinator</td>\n",
       "      <td>0.346083</td>\n",
       "      <td>True</td>\n",
       "      <td>True</td>\n",
       "      <td>True</td>\n",
       "      <td>False</td>\n",
       "    </tr>\n",
       "    <tr>\n",
       "      <th>16</th>\n",
       "      <td>20</td>\n",
       "      <td>982</td>\n",
       "      <td>commercial pilot</td>\n",
       "      <td>2105</td>\n",
       "      <td>aircraft maintenance coordinator</td>\n",
       "      <td>0.335215</td>\n",
       "      <td>True</td>\n",
       "      <td>True</td>\n",
       "      <td>True</td>\n",
       "      <td>True</td>\n",
       "    </tr>\n",
       "    <tr>\n",
       "      <th>17</th>\n",
       "      <td>21</td>\n",
       "      <td>982</td>\n",
       "      <td>commercial pilot</td>\n",
       "      <td>1421</td>\n",
       "      <td>commissioning engineer</td>\n",
       "      <td>0.330696</td>\n",
       "      <td>True</td>\n",
       "      <td>True</td>\n",
       "      <td>True</td>\n",
       "      <td>False</td>\n",
       "    </tr>\n",
       "    <tr>\n",
       "      <th>18</th>\n",
       "      <td>24</td>\n",
       "      <td>982</td>\n",
       "      <td>commercial pilot</td>\n",
       "      <td>764</td>\n",
       "      <td>construction safety manager</td>\n",
       "      <td>0.327059</td>\n",
       "      <td>True</td>\n",
       "      <td>True</td>\n",
       "      <td>True</td>\n",
       "      <td>True</td>\n",
       "    </tr>\n",
       "    <tr>\n",
       "      <th>19</th>\n",
       "      <td>25</td>\n",
       "      <td>982</td>\n",
       "      <td>commercial pilot</td>\n",
       "      <td>2504</td>\n",
       "      <td>astronaut</td>\n",
       "      <td>0.324516</td>\n",
       "      <td>True</td>\n",
       "      <td>True</td>\n",
       "      <td>True</td>\n",
       "      <td>False</td>\n",
       "    </tr>\n",
       "    <tr>\n",
       "      <th>20</th>\n",
       "      <td>27</td>\n",
       "      <td>982</td>\n",
       "      <td>commercial pilot</td>\n",
       "      <td>136</td>\n",
       "      <td>aircraft engine specialist</td>\n",
       "      <td>0.312849</td>\n",
       "      <td>True</td>\n",
       "      <td>True</td>\n",
       "      <td>True</td>\n",
       "      <td>True</td>\n",
       "    </tr>\n",
       "    <tr>\n",
       "      <th>21</th>\n",
       "      <td>28</td>\n",
       "      <td>982</td>\n",
       "      <td>commercial pilot</td>\n",
       "      <td>637</td>\n",
       "      <td>pipeline environmental project manager</td>\n",
       "      <td>0.312663</td>\n",
       "      <td>True</td>\n",
       "      <td>True</td>\n",
       "      <td>True</td>\n",
       "      <td>False</td>\n",
       "    </tr>\n",
       "    <tr>\n",
       "      <th>22</th>\n",
       "      <td>29</td>\n",
       "      <td>982</td>\n",
       "      <td>commercial pilot</td>\n",
       "      <td>1408</td>\n",
       "      <td>railway electronic technician</td>\n",
       "      <td>0.312432</td>\n",
       "      <td>True</td>\n",
       "      <td>True</td>\n",
       "      <td>True</td>\n",
       "      <td>False</td>\n",
       "    </tr>\n",
       "    <tr>\n",
       "      <th>23</th>\n",
       "      <td>31</td>\n",
       "      <td>982</td>\n",
       "      <td>commercial pilot</td>\n",
       "      <td>113</td>\n",
       "      <td>commissioning technician</td>\n",
       "      <td>0.308680</td>\n",
       "      <td>True</td>\n",
       "      <td>True</td>\n",
       "      <td>True</td>\n",
       "      <td>False</td>\n",
       "    </tr>\n",
       "    <tr>\n",
       "      <th>24</th>\n",
       "      <td>32</td>\n",
       "      <td>982</td>\n",
       "      <td>commercial pilot</td>\n",
       "      <td>2266</td>\n",
       "      <td>radiation protection officer</td>\n",
       "      <td>0.304683</td>\n",
       "      <td>True</td>\n",
       "      <td>True</td>\n",
       "      <td>True</td>\n",
       "      <td>True</td>\n",
       "    </tr>\n",
       "    <tr>\n",
       "      <th>25</th>\n",
       "      <td>33</td>\n",
       "      <td>982</td>\n",
       "      <td>commercial pilot</td>\n",
       "      <td>1046</td>\n",
       "      <td>police officer</td>\n",
       "      <td>0.302017</td>\n",
       "      <td>True</td>\n",
       "      <td>True</td>\n",
       "      <td>True</td>\n",
       "      <td>False</td>\n",
       "    </tr>\n",
       "  </tbody>\n",
       "</table>\n",
       "</div>"
      ],
      "text/plain": [
       "    index  origin_id      origin_label  destination_id  \\\n",
       "0       0        982  commercial pilot            1843   \n",
       "1       2        982  commercial pilot             728   \n",
       "2       4        982  commercial pilot            1687   \n",
       "3       5        982  commercial pilot            2377   \n",
       "4       6        982  commercial pilot             816   \n",
       "5       7        982  commercial pilot            1562   \n",
       "6       9        982  commercial pilot             163   \n",
       "7      10        982  commercial pilot            1064   \n",
       "8      11        982  commercial pilot            2446   \n",
       "9      12        982  commercial pilot            2076   \n",
       "10     13        982  commercial pilot            2665   \n",
       "11     14        982  commercial pilot            2899   \n",
       "12     15        982  commercial pilot               3   \n",
       "13     17        982  commercial pilot            1267   \n",
       "14     18        982  commercial pilot            1691   \n",
       "15     19        982  commercial pilot            1669   \n",
       "16     20        982  commercial pilot            2105   \n",
       "17     21        982  commercial pilot            1421   \n",
       "18     24        982  commercial pilot             764   \n",
       "19     25        982  commercial pilot            2504   \n",
       "20     27        982  commercial pilot             136   \n",
       "21     28        982  commercial pilot             637   \n",
       "22     29        982  commercial pilot            1408   \n",
       "23     31        982  commercial pilot             113   \n",
       "24     32        982  commercial pilot            2266   \n",
       "25     33        982  commercial pilot            1046   \n",
       "\n",
       "                                    destination_label  similarity  is_viable  \\\n",
       "0                                      aircraft pilot    0.928970       True   \n",
       "1                              air traffic controller    0.523488       True   \n",
       "2   aviation surveillance and code coordination ma...    0.464536       True   \n",
       "3                             aviation safety officer    0.457789       True   \n",
       "4                              airside safety manager    0.446604       True   \n",
       "5                      airport maintenance technician    0.432825       True   \n",
       "6                                 air traffic manager    0.408983       True   \n",
       "7                aviation data communications manager    0.402656       True   \n",
       "8                                    airspace manager    0.400641       True   \n",
       "9                                  aviation inspector    0.392292       True   \n",
       "10                          flight operations officer    0.384849       True   \n",
       "11                                   airport director    0.384596       True   \n",
       "12                      air traffic safety technician    0.379015       True   \n",
       "13                        airport environment officer    0.351381       True   \n",
       "14                            ground lighting officer    0.350504       True   \n",
       "15                    pipeline compliance coordinator    0.346083       True   \n",
       "16                   aircraft maintenance coordinator    0.335215       True   \n",
       "17                             commissioning engineer    0.330696       True   \n",
       "18                        construction safety manager    0.327059       True   \n",
       "19                                          astronaut    0.324516       True   \n",
       "20                         aircraft engine specialist    0.312849       True   \n",
       "21             pipeline environmental project manager    0.312663       True   \n",
       "22                      railway electronic technician    0.312432       True   \n",
       "23                           commissioning technician    0.308680       True   \n",
       "24                       radiation protection officer    0.304683       True   \n",
       "25                                     police officer    0.302017       True   \n",
       "\n",
       "    is_desirable  is_safe_desirable  is_strictly_safe_desirable  \n",
       "0           True               True                       False  \n",
       "1           True               True                       False  \n",
       "2           True               True                        True  \n",
       "3           True               True                       False  \n",
       "4           True               True                       False  \n",
       "5           True               True                        True  \n",
       "6           True               True                       False  \n",
       "7           True               True                       False  \n",
       "8           True               True                       False  \n",
       "9           True               True                       False  \n",
       "10          True               True                       False  \n",
       "11          True               True                       False  \n",
       "12          True               True                       False  \n",
       "13          True               True                       False  \n",
       "14          True               True                        True  \n",
       "15          True               True                       False  \n",
       "16          True               True                        True  \n",
       "17          True               True                       False  \n",
       "18          True               True                        True  \n",
       "19          True               True                       False  \n",
       "20          True               True                        True  \n",
       "21          True               True                       False  \n",
       "22          True               True                       False  \n",
       "23          True               True                       False  \n",
       "24          True               True                        True  \n",
       "25          True               True                       False  "
      ]
     },
     "execution_count": 13,
     "metadata": {},
     "output_type": "execute_result"
    }
   ],
   "source": [
    "selected_transitions"
   ]
  },
  {
   "cell_type": "markdown",
   "id": "7462c812",
   "metadata": {},
   "source": [
    "##### Now, there are three ways to move forward:\n",
    "1. Generate skill gap table and select the skills that have score below a threshold, say, 0.5 and then performing upskilling.\n",
    "2. Let the user select an occupation from the list of previously generated transitions and then generate the skill difference.\n",
    "3. Combine the above two ways by giving the user an option to choose from whether they would like the algorithm to generate skill gap analysis or choose a destination occupation themselves from the list of previously generated occupations (step 2.2)."
   ]
  },
  {
   "cell_type": "code",
   "execution_count": null,
   "id": "344d0df7",
   "metadata": {
    "scrolled": true
   },
   "outputs": [],
   "source": []
  },
  {
   "cell_type": "code",
   "execution_count": 14,
   "id": "fb52b6ee",
   "metadata": {},
   "outputs": [],
   "source": [
    "#trans[trans[transition_type_col]]"
   ]
  },
  {
   "cell_type": "markdown",
   "id": "43ff7a16",
   "metadata": {},
   "source": [
    "### 3: Skill gap analysis by automated upskilling"
   ]
  },
  {
   "cell_type": "markdown",
   "id": "49cd954a",
   "metadata": {},
   "source": [
    "#### 3.1: Generating skill gap table"
   ]
  },
  {
   "cell_type": "code",
   "execution_count": 15,
   "id": "6dff0433",
   "metadata": {},
   "outputs": [
    {
     "name": "stdout",
     "output_type": "stream",
     "text": [
      "Time elapsed: 1.85 sec ( 0.071 per transition)\n"
     ]
    }
   ],
   "source": [
    "# Set up the skills gap analysis class\n",
    "gaps = trans_utils.SkillsGaps(selected_transitions) # \"SkillGaps\" is a class in the utility file \"transitions_utils\". This line is sending the required table of transitions\n",
    "gaps.setup(\n",
    "    transition_indices=selected_transitions.index.to_list(), # which transitions we wish to analyse (corresponding to the rows of the dataframe)\n",
    "    skills_type='destination') # which skills matching scores to analyse (either 'destination' or 'origin')\n"
   ]
  },
  {
   "cell_type": "code",
   "execution_count": 16,
   "id": "47f015fd",
   "metadata": {},
   "outputs": [],
   "source": [
    "# Check the most prevalent skills items and their average matching scores across the transitions\n",
    "# (Here, we check skills in the 90th percentile of prevalence)\n",
    "#line 771 of trans_util file\n",
    "skill_gap_df=gaps.prevalent_skills_gaps(top_x=95, # Either the top prevalence percentile to show, or the top X skills to show (if percentile is False)\n",
    "                           percentile=True\n",
    "                          ).round(2)"
   ]
  },
  {
   "cell_type": "code",
   "execution_count": 17,
   "id": "1130bf8b",
   "metadata": {},
   "outputs": [
    {
     "data": {
      "text/html": [
       "<div>\n",
       "<style scoped>\n",
       "    .dataframe tbody tr th:only-of-type {\n",
       "        vertical-align: middle;\n",
       "    }\n",
       "\n",
       "    .dataframe tbody tr th {\n",
       "        vertical-align: top;\n",
       "    }\n",
       "\n",
       "    .dataframe thead th {\n",
       "        text-align: right;\n",
       "    }\n",
       "</style>\n",
       "<table border=\"1\" class=\"dataframe\">\n",
       "  <thead>\n",
       "    <tr style=\"text-align: right;\">\n",
       "      <th></th>\n",
       "      <th>id</th>\n",
       "      <th>preferred_label</th>\n",
       "      <th>level_1</th>\n",
       "      <th>level_2</th>\n",
       "      <th>level_3</th>\n",
       "      <th>counts</th>\n",
       "      <th>prevalence</th>\n",
       "      <th>score</th>\n",
       "      <th>stdev</th>\n",
       "    </tr>\n",
       "  </thead>\n",
       "  <tbody>\n",
       "    <tr>\n",
       "      <th>35</th>\n",
       "      <td>1571</td>\n",
       "      <td>perform risk analysis</td>\n",
       "      <td>S2</td>\n",
       "      <td>S2.7</td>\n",
       "      <td>S2.7.5</td>\n",
       "      <td>6</td>\n",
       "      <td>0.23</td>\n",
       "      <td>1.00</td>\n",
       "      <td>0.00</td>\n",
       "    </tr>\n",
       "    <tr>\n",
       "      <th>102</th>\n",
       "      <td>4383</td>\n",
       "      <td>work in an aviation team</td>\n",
       "      <td>S1</td>\n",
       "      <td>S1.8</td>\n",
       "      <td>S1.8.1</td>\n",
       "      <td>8</td>\n",
       "      <td>0.31</td>\n",
       "      <td>1.00</td>\n",
       "      <td>0.00</td>\n",
       "    </tr>\n",
       "    <tr>\n",
       "      <th>185</th>\n",
       "      <td>7753</td>\n",
       "      <td>write work-related reports</td>\n",
       "      <td>S1</td>\n",
       "      <td>S1.13</td>\n",
       "      <td>S1.13.3</td>\n",
       "      <td>8</td>\n",
       "      <td>0.31</td>\n",
       "      <td>1.00</td>\n",
       "      <td>0.00</td>\n",
       "    </tr>\n",
       "    <tr>\n",
       "      <th>190</th>\n",
       "      <td>7922</td>\n",
       "      <td>identify airport safety hazards</td>\n",
       "      <td>S2</td>\n",
       "      <td>S2.8</td>\n",
       "      <td>S2.8.4</td>\n",
       "      <td>7</td>\n",
       "      <td>0.27</td>\n",
       "      <td>1.00</td>\n",
       "      <td>0.00</td>\n",
       "    </tr>\n",
       "    <tr>\n",
       "      <th>209</th>\n",
       "      <td>8895</td>\n",
       "      <td>apply airport standards and regulations</td>\n",
       "      <td>S3</td>\n",
       "      <td>S3.3</td>\n",
       "      <td>S3.3.3</td>\n",
       "      <td>8</td>\n",
       "      <td>0.31</td>\n",
       "      <td>1.00</td>\n",
       "      <td>0.00</td>\n",
       "    </tr>\n",
       "    <tr>\n",
       "      <th>46</th>\n",
       "      <td>2037</td>\n",
       "      <td>aircraft flight control systems</td>\n",
       "      <td>K10</td>\n",
       "      <td>K10.4</td>\n",
       "      <td>K10.4.0</td>\n",
       "      <td>4</td>\n",
       "      <td>0.15</td>\n",
       "      <td>1.00</td>\n",
       "      <td>0.00</td>\n",
       "    </tr>\n",
       "    <tr>\n",
       "      <th>77</th>\n",
       "      <td>3475</td>\n",
       "      <td>use different communication channels</td>\n",
       "      <td>S1</td>\n",
       "      <td>S1.2</td>\n",
       "      <td>S1.2.1</td>\n",
       "      <td>10</td>\n",
       "      <td>0.38</td>\n",
       "      <td>1.00</td>\n",
       "      <td>0.00</td>\n",
       "    </tr>\n",
       "    <tr>\n",
       "      <th>219</th>\n",
       "      <td>9432</td>\n",
       "      <td>air transport law</td>\n",
       "      <td>K4</td>\n",
       "      <td>K4.2</td>\n",
       "      <td>K4.2.0</td>\n",
       "      <td>5</td>\n",
       "      <td>0.19</td>\n",
       "      <td>1.00</td>\n",
       "      <td>0.00</td>\n",
       "    </tr>\n",
       "    <tr>\n",
       "      <th>220</th>\n",
       "      <td>9473</td>\n",
       "      <td>air traffic control operations</td>\n",
       "      <td>K10</td>\n",
       "      <td>K10.4</td>\n",
       "      <td>K10.4.0</td>\n",
       "      <td>4</td>\n",
       "      <td>0.15</td>\n",
       "      <td>1.00</td>\n",
       "      <td>0.00</td>\n",
       "    </tr>\n",
       "    <tr>\n",
       "      <th>266</th>\n",
       "      <td>11250</td>\n",
       "      <td>common aviation safety regulations</td>\n",
       "      <td>K4</td>\n",
       "      <td>K4.2</td>\n",
       "      <td>K4.2.0</td>\n",
       "      <td>10</td>\n",
       "      <td>0.38</td>\n",
       "      <td>1.00</td>\n",
       "      <td>0.00</td>\n",
       "    </tr>\n",
       "    <tr>\n",
       "      <th>242</th>\n",
       "      <td>10443</td>\n",
       "      <td>airport safety regulations</td>\n",
       "      <td>K10</td>\n",
       "      <td>K10.4</td>\n",
       "      <td>K10.4.0</td>\n",
       "      <td>5</td>\n",
       "      <td>0.19</td>\n",
       "      <td>0.39</td>\n",
       "      <td>0.00</td>\n",
       "    </tr>\n",
       "    <tr>\n",
       "      <th>72</th>\n",
       "      <td>3272</td>\n",
       "      <td>comply with legal regulations</td>\n",
       "      <td>S3</td>\n",
       "      <td>S3.3</td>\n",
       "      <td>S3.3.3</td>\n",
       "      <td>4</td>\n",
       "      <td>0.15</td>\n",
       "      <td>0.02</td>\n",
       "      <td>0.00</td>\n",
       "    </tr>\n",
       "    <tr>\n",
       "      <th>240</th>\n",
       "      <td>10264</td>\n",
       "      <td>apply technical communication skills</td>\n",
       "      <td>S1</td>\n",
       "      <td>S1.4</td>\n",
       "      <td>S1.4.2</td>\n",
       "      <td>5</td>\n",
       "      <td>0.19</td>\n",
       "      <td>0.01</td>\n",
       "      <td>0.01</td>\n",
       "    </tr>\n",
       "    <tr>\n",
       "      <th>192</th>\n",
       "      <td>7981</td>\n",
       "      <td>electronics</td>\n",
       "      <td>K7</td>\n",
       "      <td>K7.1</td>\n",
       "      <td>K7.1.4</td>\n",
       "      <td>4</td>\n",
       "      <td>0.15</td>\n",
       "      <td>0.00</td>\n",
       "      <td>0.00</td>\n",
       "    </tr>\n",
       "  </tbody>\n",
       "</table>\n",
       "</div>"
      ],
      "text/plain": [
       "        id                          preferred_label level_1 level_2  level_3  \\\n",
       "35    1571                    perform risk analysis      S2    S2.7   S2.7.5   \n",
       "102   4383                 work in an aviation team      S1    S1.8   S1.8.1   \n",
       "185   7753               write work-related reports      S1   S1.13  S1.13.3   \n",
       "190   7922          identify airport safety hazards      S2    S2.8   S2.8.4   \n",
       "209   8895  apply airport standards and regulations      S3    S3.3   S3.3.3   \n",
       "46    2037          aircraft flight control systems     K10   K10.4  K10.4.0   \n",
       "77    3475     use different communication channels      S1    S1.2   S1.2.1   \n",
       "219   9432                        air transport law      K4    K4.2   K4.2.0   \n",
       "220   9473           air traffic control operations     K10   K10.4  K10.4.0   \n",
       "266  11250       common aviation safety regulations      K4    K4.2   K4.2.0   \n",
       "242  10443               airport safety regulations     K10   K10.4  K10.4.0   \n",
       "72    3272            comply with legal regulations      S3    S3.3   S3.3.3   \n",
       "240  10264     apply technical communication skills      S1    S1.4   S1.4.2   \n",
       "192   7981                              electronics      K7    K7.1   K7.1.4   \n",
       "\n",
       "     counts  prevalence  score  stdev  \n",
       "35        6        0.23   1.00   0.00  \n",
       "102       8        0.31   1.00   0.00  \n",
       "185       8        0.31   1.00   0.00  \n",
       "190       7        0.27   1.00   0.00  \n",
       "209       8        0.31   1.00   0.00  \n",
       "46        4        0.15   1.00   0.00  \n",
       "77       10        0.38   1.00   0.00  \n",
       "219       5        0.19   1.00   0.00  \n",
       "220       4        0.15   1.00   0.00  \n",
       "266      10        0.38   1.00   0.00  \n",
       "242       5        0.19   0.39   0.00  \n",
       "72        4        0.15   0.02   0.00  \n",
       "240       5        0.19   0.01   0.01  \n",
       "192       4        0.15   0.00   0.00  "
      ]
     },
     "execution_count": 17,
     "metadata": {},
     "output_type": "execute_result"
    }
   ],
   "source": [
    "skill_gap_df"
   ]
  },
  {
   "cell_type": "code",
   "execution_count": null,
   "id": "47978a11",
   "metadata": {},
   "outputs": [],
   "source": []
  },
  {
   "cell_type": "code",
   "execution_count": 18,
   "id": "38cafa39",
   "metadata": {},
   "outputs": [],
   "source": [
    "#len(skill_gap_df[skill_gap_df['score'] < 0.5][\"preferred_label\"].to_list())"
   ]
  },
  {
   "cell_type": "markdown",
   "id": "4a8b4f93",
   "metadata": {},
   "source": [
    "#### 3.2: Selecting set of skills that have value of score less than 0.5 in the skill gap table and then simulating upskilling \n"
   ]
  },
  {
   "cell_type": "code",
   "execution_count": 19,
   "id": "1b9a15ac",
   "metadata": {},
   "outputs": [
    {
     "name": "stdout",
     "output_type": "stream",
     "text": [
      "6 new transitions found for \"commercial pilot\" after adding the skill \"['airport safety regulations', 'comply with legal regulations', 'apply technical communication skills', 'electronics']\"\n"
     ]
    },
    {
     "data": {
      "text/html": [
       "<div>\n",
       "<style scoped>\n",
       "    .dataframe tbody tr th:only-of-type {\n",
       "        vertical-align: middle;\n",
       "    }\n",
       "\n",
       "    .dataframe tbody tr th {\n",
       "        vertical-align: top;\n",
       "    }\n",
       "\n",
       "    .dataframe thead th {\n",
       "        text-align: right;\n",
       "    }\n",
       "</style>\n",
       "<table border=\"1\" class=\"dataframe\">\n",
       "  <thead>\n",
       "    <tr style=\"text-align: right;\">\n",
       "      <th></th>\n",
       "      <th>destination_label</th>\n",
       "    </tr>\n",
       "  </thead>\n",
       "  <tbody>\n",
       "    <tr>\n",
       "      <th>0</th>\n",
       "      <td>aircraft maintenance engineer</td>\n",
       "    </tr>\n",
       "    <tr>\n",
       "      <th>1</th>\n",
       "      <td>railway station manager</td>\n",
       "    </tr>\n",
       "    <tr>\n",
       "      <th>2</th>\n",
       "      <td>aircraft maintenance technician</td>\n",
       "    </tr>\n",
       "    <tr>\n",
       "      <th>3</th>\n",
       "      <td>criminal investigator</td>\n",
       "    </tr>\n",
       "    <tr>\n",
       "      <th>4</th>\n",
       "      <td>polygraph examiner</td>\n",
       "    </tr>\n",
       "    <tr>\n",
       "      <th>5</th>\n",
       "      <td>avionics technician</td>\n",
       "    </tr>\n",
       "  </tbody>\n",
       "</table>\n",
       "</div>"
      ],
      "text/plain": [
       "                 destination_label\n",
       "0    aircraft maintenance engineer\n",
       "1          railway station manager\n",
       "2  aircraft maintenance technician\n",
       "3            criminal investigator\n",
       "4               polygraph examiner\n",
       "5              avionics technician"
      ]
     },
     "execution_count": 19,
     "metadata": {},
     "output_type": "execute_result"
    }
   ],
   "source": [
    "#@markdown ## Enter the occupation and the skill to upskill\n",
    "#@markdown After entering the text, run the cell by pressing the 'play' button. </br>\n",
    "#@markdown Note that `occupation_label` has to exactly match an [ESCO occupation](https://ec.europa.eu/esco/portal/occupation), and `skill_to_upskill` has to match an [ESCO skill](https://ec.europa.eu/esco/portal/skill).\n",
    "origin_label = job_i #@param {type:\"string\"}\n",
    "#skill_to_upskill = [\"perform scientific research\",\"develop automated migration methods\",\"provide cost benefit analysis reports\",\"manage database\",\"web programming\"] #@param {type:\"string\"}\n",
    "\n",
    "skill_to_upskill = skill_gap_df[skill_gap_df['score'] < 0.5][\"preferred_label\"].to_list()\n",
    "# Find origin occupation's ID\n",
    "job_i = data.occ_title_to_id(origin_label)\n",
    "\n",
    "## Try upskilling the chosen occupation with the selected skill\n",
    "\n",
    "# NB: Testing many destination_ids will take a minute or so!\n",
    "# Restrict the range of destination occupations for faster calculations,\n",
    "# by only checking destination occupations that... \n",
    "# (1) ...are lower risk\n",
    "destination_ids = data.occ_report[data.occ_report.risk_category!='High risk'].id.to_list()\n",
    "# (2) ...are earning at least 75% of the origin occupation's annual earnings\n",
    "destination_ids = set(destination_ids)\n",
    "destination_ids = destination_ids.intersection(set(data.occ_report[data.occ_report.annual_earnings > 0.75*data.occ.loc[job_i].annual_earnings].id.to_list()))\n",
    "# (3) ...have comparable expected education and experience (as measured by job zones)\n",
    "destination_ids = destination_ids.intersection(set(data.occ_report[np.abs(data.occ_report.job_zone-data.occ.loc[job_i].job_zone) <= 1].id.to_list()))\n",
    "# (4) ...are closer to the viability threshold;\n",
    "destination_ids = destination_ids.intersection(set(np.where(sim.W_combined[job_i, :] > 0.2)[0]))\n",
    "destination_ids = list(destination_ids)\n",
    "\n",
    "#creating a list of skills\n",
    "#skills = [\"develop automated migration methods\",\"information structure\"]\n",
    "if type(skill_to_upskill)== list:\n",
    "\n",
    "  skill_ids = []\n",
    "  for skill in skill_to_upskill:\n",
    "    skill_ids.append(data.skill_title_to_id(skill))\n",
    "else: \n",
    "  skill_ids = [data.skill_title_to_id(skill_to_upskill)]\n",
    "upskilling = trans_utils.Upskilling(\n",
    "    origin_ids=[job_i], # List of occupations we are testing \n",
    "    new_skillsets=[skill_ids], # List of skills or skillsets to add (here: only 1)\n",
    "    destination_ids=destination_ids # List of admissible destination occupations\n",
    ")\n",
    "\n",
    "upskilling.effectiveness(safe_definition='strict');\n",
    "\n",
    "# List of the new transition destinations\n",
    "new_transitions = upskilling.upskilling_effects[0]['transition_table']\n",
    "df = new_transitions[new_transitions.is_viable][['destination_label']].reset_index(drop=True)\n",
    "\n",
    "print(f'{len(df)} new transitions found for \"{occupation_label}\" after adding the skill \"{skill_to_upskill}\"')\n",
    "df"
   ]
  },
  {
   "cell_type": "markdown",
   "id": "e4dc5b30",
   "metadata": {},
   "source": [
    "Note: At this point, we can also provide an option to let the user choose which occupation they want to transition to and then simulate upskilling by generating the skill difference similar to below."
   ]
  },
  {
   "cell_type": "markdown",
   "id": "d7cb566a",
   "metadata": {},
   "source": [
    "### 4: Simulating upskilling by checking the skill difference between origin occupation and occupation chosen by user\n"
   ]
  },
  {
   "cell_type": "markdown",
   "id": "e4dc2c37",
   "metadata": {},
   "source": [
    "#### 4.1: generating skill difference between source and destination occupations"
   ]
  },
  {
   "cell_type": "code",
   "execution_count": 20,
   "id": "15370004",
   "metadata": {},
   "outputs": [],
   "source": [
    "# Check transitions for hotel concierge\n",
    "#occupation_label = 'commercial pilot'\n",
    "#occupation_label = 'ICT system analyst'\n",
    "\n",
    "\n",
    "# Get the job ID number\n",
    "#job_i = data.occ_title_to_id(occupation_label)\n",
    "\n",
    "# Description \n",
    "skills_source = data.occupation_skills(job_i, skill_importance=\"Essential\")"
   ]
  },
  {
   "cell_type": "code",
   "execution_count": 21,
   "id": "3fea11f6",
   "metadata": {},
   "outputs": [],
   "source": [
    "#set(skills_source[\"preferred_label\"])"
   ]
  },
  {
   "cell_type": "code",
   "execution_count": 22,
   "id": "b71f0892",
   "metadata": {},
   "outputs": [
    {
     "name": "stdout",
     "output_type": "stream",
     "text": [
      "What is your destination occupation of choice: aircraft maintenance engineer\n"
     ]
    },
    {
     "data": {
      "text/plain": [
       "'aircraft maintenance engineer'"
      ]
     },
     "execution_count": 22,
     "metadata": {},
     "output_type": "execute_result"
    }
   ],
   "source": [
    "#taking user input for destination occupation. Should be a dropdown of available transitions.\n",
    "\n",
    "user_choice = input(\"What is your destination occupation of choice: \")\n",
    "user_choice = user_choice.strip()\n",
    "user_choice=user_choice.lower()\n",
    "user_choice"
   ]
  },
  {
   "cell_type": "code",
   "execution_count": 23,
   "id": "240fa8e1",
   "metadata": {},
   "outputs": [],
   "source": [
    "# Check transitions for data scientist\n",
    "dest_occupation_label = user_choice\n",
    "\n",
    "# Get the job ID number\n",
    "dest_job_i = data.occ_title_to_id(dest_occupation_label)\n",
    "\n",
    "# job skills \n",
    "skills_dest = data.occupation_skills(dest_job_i, skill_importance=\"Essential\")"
   ]
  },
  {
   "cell_type": "code",
   "execution_count": 24,
   "id": "ac0eeb80",
   "metadata": {},
   "outputs": [
    {
     "data": {
      "text/plain": [
       "0                    manage health and safety standards\n",
       "1                                             mechanics\n",
       "2                                      airport planning\n",
       "3                                    technical drawings\n",
       "4                                 use testing equipment\n",
       "5                                 engineering processes\n",
       "6                  manage airport development resources\n",
       "7                                mechanical engineering\n",
       "8                                engineering principles\n",
       "9      ensure compliance with airport security measures\n",
       "10                                     electromechanics\n",
       "11                                  disassemble engines\n",
       "12                     wear appropriate protective gear\n",
       "13                                          electronics\n",
       "14                                          electricity\n",
       "15                                       repair engines\n",
       "16                          use technical documentation\n",
       "17                                    engine components\n",
       "18                   inspect aircraft for airworthiness\n",
       "19                                      use power tools\n",
       "20                                   aircraft mechanics\n",
       "21                          evaluate engine performance\n",
       "22                      aircraft flight control systems\n",
       "23                             read standard blueprints\n",
       "24    follow manufacturer guidelines in use of airpo...\n",
       "25                               electrical engineering\n",
       "26          install electrical and electronic equipment\n",
       "27                            read engineering drawings\n",
       "28                           diagnose defective engines\n",
       "29                              electrical wiring plans\n",
       "30                 apply technical communication skills\n",
       "Name: preferred_label, dtype: object"
      ]
     },
     "execution_count": 24,
     "metadata": {},
     "output_type": "execute_result"
    }
   ],
   "source": [
    "skills_dest[\"preferred_label\"]"
   ]
  },
  {
   "cell_type": "code",
   "execution_count": 25,
   "id": "4f3472a8",
   "metadata": {},
   "outputs": [],
   "source": [
    "#len(skills_dest[\"preferred_label\"])\n"
   ]
  },
  {
   "cell_type": "code",
   "execution_count": 26,
   "id": "eff15c2b",
   "metadata": {},
   "outputs": [
    {
     "data": {
      "text/plain": [
       "{'aircraft mechanics',\n",
       " 'apply technical communication skills',\n",
       " 'diagnose defective engines',\n",
       " 'disassemble engines',\n",
       " 'electrical engineering',\n",
       " 'electrical wiring plans',\n",
       " 'electricity',\n",
       " 'electromechanics',\n",
       " 'electronics',\n",
       " 'engine components',\n",
       " 'engineering principles',\n",
       " 'engineering processes',\n",
       " 'ensure compliance with airport security measures',\n",
       " 'evaluate engine performance',\n",
       " 'follow manufacturer guidelines in use of airport equipment',\n",
       " 'inspect aircraft for airworthiness',\n",
       " 'install electrical and electronic equipment',\n",
       " 'manage airport development resources',\n",
       " 'manage health and safety standards',\n",
       " 'mechanical engineering',\n",
       " 'mechanics',\n",
       " 'read engineering drawings',\n",
       " 'read standard blueprints',\n",
       " 'repair engines',\n",
       " 'technical drawings',\n",
       " 'use power tools',\n",
       " 'use technical documentation',\n",
       " 'use testing equipment',\n",
       " 'wear appropriate protective gear'}"
      ]
     },
     "execution_count": 26,
     "metadata": {},
     "output_type": "execute_result"
    }
   ],
   "source": [
    "#final skills that are lacking in order to transition to new occupation\n",
    "\n",
    "skill_diff = set(skills_dest[\"preferred_label\"]).difference(set(skills_source[\"preferred_label\"]))\n",
    "skill_diff "
   ]
  },
  {
   "cell_type": "code",
   "execution_count": 27,
   "id": "ab524450",
   "metadata": {},
   "outputs": [],
   "source": [
    "#len(skill_diff)"
   ]
  },
  {
   "cell_type": "markdown",
   "id": "e8bdcb06",
   "metadata": {},
   "source": [
    "#### 4.2: Clustering the generated skill difference"
   ]
  },
  {
   "cell_type": "markdown",
   "id": "8d4e7a41",
   "metadata": {},
   "source": [
    "Since in some cases the list of skill difference can be too large, it would be better to group the similar skills in clusters for better user experience."
   ]
  },
  {
   "cell_type": "code",
   "execution_count": 28,
   "id": "b524cdd4",
   "metadata": {},
   "outputs": [
    {
     "name": "stdout",
     "output_type": "stream",
     "text": [
      " - *engineering processes:* engineering principles, engineering processes, evaluate engine performance, read engineering drawings\n",
      " - *manage airport development resources:* manage airport development resources\n",
      " - *wear appropriate protective gear:* wear appropriate protective gear\n",
      " - *inspect aircraft for airworthiness:* inspect aircraft for airworthiness\n",
      " - *electrical engineering:* electrical engineering, electrical wiring plans, mechanical engineering, use technical documentation\n",
      " - *repair engines:* aircraft mechanics, diagnose defective engines, disassemble engines, read standard blueprints, repair engines, technical drawings, use power tools, use testing equipment\n",
      " - *ensure compliance with airport security measures:* ensure compliance with airport security measures\n",
      " - *manage health and safety standards:* manage health and safety standards\n",
      " - *electronics:* electricity, electromechanics, electronics, engine components, mechanics\n",
      " - *install electrical and electronic equipment:* install electrical and electronic equipment\n",
      " - *follow manufacturer guidelines in use of airport equipment:* follow manufacturer guidelines in use of airport equipment\n",
      " - *apply technical communication skills:* apply technical communication skills\n"
     ]
    }
   ],
   "source": [
    "import numpy as np\n",
    "from sklearn.cluster import AffinityPropagation\n",
    "import Levenshtein\n",
    "    \n",
    "words = list(skill_diff) \n",
    "words = np.asarray(words) #So that indexing with a list will work\n",
    "lev_similarity = -1*np.array([[Levenshtein.distance(w1,w2) for w1 in words] for w2 in words])\n",
    "\n",
    "affprop = AffinityPropagation(affinity=\"precomputed\", damping=0.5)\n",
    "affprop.fit(lev_similarity) # clustering the similar words\n",
    "for cluster_id in np.unique(affprop.labels_):\n",
    "    exemplar = words[affprop.cluster_centers_indices_[cluster_id]]\n",
    "    cluster = np.unique(words[np.nonzero(affprop.labels_==cluster_id)])\n",
    "    cluster_str = \", \".join(cluster)\n",
    "    print(\" - *%s:* %s\" % (exemplar, cluster_str))"
   ]
  },
  {
   "cell_type": "code",
   "execution_count": 29,
   "id": "74f582b1",
   "metadata": {},
   "outputs": [],
   "source": [
    "input_str = \"database management systems\"\n",
    "for cluster_id in np.unique(affprop.labels_):\n",
    "    exemplar = words[affprop.cluster_centers_indices_[cluster_id]]\n",
    "    cluster = np.unique(words[np.nonzero(affprop.labels_==cluster_id)])\n",
    "    if input_str in words[np.nonzero(affprop.labels_==cluster_id)]:\n",
    "        cluster_str = \", \".join(cluster)\n",
    "        print(\" - *%s:* %s\" % (exemplar, cluster_str))"
   ]
  },
  {
   "cell_type": "code",
   "execution_count": null,
   "id": "3c922f83",
   "metadata": {},
   "outputs": [],
   "source": []
  },
  {
   "cell_type": "code",
   "execution_count": null,
   "id": "017791ba",
   "metadata": {},
   "outputs": [],
   "source": []
  },
  {
   "cell_type": "code",
   "execution_count": null,
   "id": "be4a9b5f",
   "metadata": {},
   "outputs": [],
   "source": []
  },
  {
   "cell_type": "code",
   "execution_count": null,
   "id": "d70bd5bb",
   "metadata": {},
   "outputs": [],
   "source": []
  },
  {
   "cell_type": "code",
   "execution_count": null,
   "id": "e05114ee",
   "metadata": {},
   "outputs": [],
   "source": []
  },
  {
   "cell_type": "code",
   "execution_count": null,
   "id": "971cdd3f",
   "metadata": {},
   "outputs": [],
   "source": []
  },
  {
   "cell_type": "code",
   "execution_count": null,
   "id": "22c354a3",
   "metadata": {},
   "outputs": [],
   "source": []
  },
  {
   "cell_type": "code",
   "execution_count": null,
   "id": "45d05950",
   "metadata": {},
   "outputs": [],
   "source": []
  },
  {
   "cell_type": "code",
   "execution_count": null,
   "id": "7357d9ef",
   "metadata": {},
   "outputs": [],
   "source": []
  },
  {
   "cell_type": "code",
   "execution_count": null,
   "id": "b088bd87",
   "metadata": {},
   "outputs": [],
   "source": []
  },
  {
   "cell_type": "code",
   "execution_count": null,
   "id": "ffccc6c7",
   "metadata": {},
   "outputs": [],
   "source": []
  },
  {
   "cell_type": "code",
   "execution_count": null,
   "id": "06fa2a6c",
   "metadata": {},
   "outputs": [],
   "source": []
  },
  {
   "cell_type": "code",
   "execution_count": null,
   "id": "dacdab8a",
   "metadata": {
    "scrolled": true
   },
   "outputs": [],
   "source": []
  },
  {
   "cell_type": "code",
   "execution_count": null,
   "id": "561d38d3",
   "metadata": {},
   "outputs": [],
   "source": []
  },
  {
   "cell_type": "code",
   "execution_count": null,
   "id": "82c0b030",
   "metadata": {},
   "outputs": [],
   "source": []
  },
  {
   "cell_type": "code",
   "execution_count": null,
   "id": "e18faff7",
   "metadata": {},
   "outputs": [],
   "source": []
  }
 ],
 "metadata": {
  "kernelspec": {
   "display_name": "Python 3",
   "language": "python",
   "name": "python3"
  },
  "language_info": {
   "codemirror_mode": {
    "name": "ipython",
    "version": 3
   },
   "file_extension": ".py",
   "mimetype": "text/x-python",
   "name": "python",
   "nbconvert_exporter": "python",
   "pygments_lexer": "ipython3",
   "version": "3.8.8"
  }
 },
 "nbformat": 4,
 "nbformat_minor": 5
}
